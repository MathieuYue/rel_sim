{
 "cells": [
  {
   "cell_type": "code",
   "execution_count": 4,
   "id": "c25914a9",
   "metadata": {},
   "outputs": [],
   "source": [
    "import os\n",
    "from relationship_agent.relationship_agent import RelationshipAgent"
   ]
  },
  {
   "cell_type": "code",
   "execution_count": 5,
   "id": "c2bc8769",
   "metadata": {},
   "outputs": [
    {
     "name": "stdout",
     "output_type": "stream",
     "text": [
      "yes\n"
     ]
    }
   ],
   "source": [
    "agent_1_path = os.path.join(\"sample_agents\", \"blake_lively\")\n",
    "agent_1 = RelationshipAgent(agent_1_path)\n"
   ]
  },
  {
   "cell_type": "code",
   "execution_count": 6,
   "id": "0983d712",
   "metadata": {},
   "outputs": [],
   "source": [
    "with open(\"blake_memories_grouped.json\", \"r\") as f:\n",
    "    ryan_memories = f.read()\n",
    "    import json\n",
    "    ryan_memories = json.loads(ryan_memories)\n"
   ]
  },
  {
   "cell_type": "code",
   "execution_count": 7,
   "id": "21965e85",
   "metadata": {},
   "outputs": [
    {
     "name": "stdout",
     "output_type": "stream",
     "text": [
      "Processing batch 1\n",
      "{'0': [0.2, 0.6, 0.8, 0.3, 0.1, 0.0, 0.2, 0.1], '1': [0.9, 0.5, 0.1, 0.2, 0.1, 0.0, 0.1, 0.3], '2': [0.3, 0.4, 0.7, 0.2, 0.5, 0.1, 0.6, 0.2], '3': [0.8, 0.7, 0.1, 0.3, 0.2, 0.1, 0.1, 0.5], '4': [0.6, 0.4, 0.2, 0.5, 0.3, 0.1, 0.2, 0.4], '5': [0.5, 0.3, 0.4, 0.7, 0.2, 0.1, 0.1, 0.3], '6': [0.7, 0.4, 0.2, 0.6, 0.3, 0.1, 0.1, 0.3], '7': [0.1, 0.2, 0.6, 0.4, 0.5, 0.3, 0.4, 0.2]}\n",
      "Processing batch 2\n",
      "{'0': [0.1, 0.3, 0.2, 0.7, 0.4, 0.5, 0.3, 0.1], '1': [0.2, 0.4, 0.3, 0.6, 0.3, 0.2, 0.4, 0.2], '2': [0.4, 0.7, 0.1, 0.2, 0.1, 0.1, 0.1, 0.3], '3': [0.2, 0.6, 0.3, 0.2, 0.5, 0.3, 0.5, 0.4], '4': [0.6, 0.8, 0.1, 0.2, 0.1, 0.1, 0.1, 0.5], '5': [0.2, 0.4, 0.1, 0.3, 0.2, 0.2, 0.6, 0.2], '6': [0.1, 0.3, 0.6, 0.5, 0.3, 0.1, 0.3, 0.2], '7': [0.1, 0.2, 0.1, 0.2, 0.5, 0.1, 0.5, 0.1]}\n",
      "Processing batch 3\n",
      "{'0': [0.8, 0.6, 0.1, 0.9, 0.2, 0.1, 0.1, 0.3], '1': [0.8, 0.7, 0.1, 0.4, 0.1, 0.1, 0.1, 0.2], '2': [0.7, 0.6, 0.1, 0.2, 0.5, 0.1, 0.1, 0.1], '3': [0.6, 0.7, 0.1, 0.5, 0.2, 0.1, 0.1, 0.2], '4': [0.3, 0.5, 0.3, 0.2, 0.7, 0.1, 0.2, 0.1], '5': [0.4, 0.4, 0.3, 0.2, 0.8, 0.1, 0.3, 0.1], '6': [0.2, 0.5, 0.2, 0.1, 0.7, 0.1, 0.3, 0.1], '7': [0.3, 0.3, 0.1, 0.1, 0.8, 0.2, 0.5, 0.1]}\n",
      "Processing batch 4\n",
      "{'0': [0.1, 0.2, 0.4, 0.1, 0.6, 0.1, 0.3, 0.1]}\n"
     ]
    }
   ],
   "source": [
    "agent_1.batch_appraise_memory(ryan_memories)"
   ]
  },
  {
   "cell_type": "code",
   "execution_count": null,
   "id": "f150a837",
   "metadata": {},
   "outputs": [],
   "source": [
    "agent_1.memory.save_memory_store('id_mem.json')"
   ]
  }
 ],
 "metadata": {
  "kernelspec": {
   "display_name": "base",
   "language": "python",
   "name": "python3"
  },
  "language_info": {
   "codemirror_mode": {
    "name": "ipython",
    "version": 3
   },
   "file_extension": ".py",
   "mimetype": "text/x-python",
   "name": "python",
   "nbconvert_exporter": "python",
   "pygments_lexer": "ipython3",
   "version": "3.13.5"
  }
 },
 "nbformat": 4,
 "nbformat_minor": 5
}
