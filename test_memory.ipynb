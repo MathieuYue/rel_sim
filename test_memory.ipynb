{
 "cells": [
  {
   "cell_type": "code",
   "execution_count": 1,
   "id": "35977412",
   "metadata": {},
   "outputs": [],
   "source": [
    "from relationship_agent.memory import Memory\n",
    "\n",
    "mem = Memory()\n"
   ]
  },
  {
   "cell_type": "code",
   "execution_count": 4,
   "id": "704b1e73",
   "metadata": {},
   "outputs": [],
   "source": [
    "# Add some example memories with associated emotion embeddings to working memory\n",
    "\n",
    "mem.add_to_working_memory(\n",
    "    \"We had a wonderful dinner together and laughed a lot.\",\n",
    "    emotion_embedding=[0.9, 0.8, 0.0, 0.2, 0.0, 0.0, 0.0, 0.3],\n",
    "    inner_thoughts=\"I felt really close and happy with my partner.\"\n",
    ")\n",
    "\n",
    "mem.add_to_working_memory(\n",
    "    \"You forgot our anniversary and I felt really hurt.\",\n",
    "    emotion_embedding=[0.0, 0.2, 0.3, 0.1, 0.8, 0.2, 0.5, 0.1],\n",
    "    inner_thoughts=\"I felt really close and happy.\",\n",
    "    memory_type = \"memory\"\n",
    ")\n",
    "\n",
    "mem.add_to_working_memory(\n",
    "    \"We resolved a misunderstanding calmly and hugged afterwards.\",\n",
    "    emotion_embedding=[0.7, 0.9, 0.1, 0.2, 0.1, 0.0, 0.0, 0.2],\n",
    "    inner_thoughts=\"It felt good to talk things through and reconnect.\"\n",
    ")\n",
    "\n",
    "mem.add_to_working_memory(\n",
    "    \"You raised your voice at me during our argument.\",\n",
    "    emotion_embedding=[0.0, 0.1, 0.5, 0.3, 0.6, 0.3, 0.7, 0.2],\n",
    "    agent = 'Blake'\n",
    ")\n",
    "\n",
    "mem.add_to_working_memory(\n",
    "    \"We planned a weekend trip together and looked forward to it.\",\n",
    "    emotion_embedding=[0.8, 0.7, 0.0, 0.4, 0.0, 0.0, 0.0, 0.9],\n",
    "    inner_thoughts=\"I felt excited and hopeful about our future.\"\n",
    ")\n"
   ]
  },
  {
   "cell_type": "code",
   "execution_count": 5,
   "id": "201756f2",
   "metadata": {},
   "outputs": [
    {
     "name": "stdout",
     "output_type": "stream",
     "text": [
      "Event 1:\n",
      "  Memory: We had a wonderful dinner together and laughed a lot.\n",
      "  Inner Thoughts: I felt really close and happy with my partner.\n",
      "\n",
      "Event 2:\n",
      "  Memory: You forgot our anniversary and I felt really hurt.\n",
      "  Inner Thoughts: I felt really close and happy.\n",
      "  Type: memory\n",
      "\n",
      "Event 3:\n",
      "  Memory: We resolved a misunderstanding calmly and hugged afterwards.\n",
      "  Inner Thoughts: It felt good to talk things through and reconnect.\n",
      "\n",
      "Event 4:\n",
      "  Memory: You raised your voice at me during our argument.\n",
      "  Agent: Blake\n",
      "\n",
      "Event 5:\n",
      "  Memory: We planned a weekend trip together and looked forward to it.\n",
      "  Inner Thoughts: I felt excited and hopeful about our future.\n",
      "\n",
      "Event 6:\n",
      "  Memory: We had a wonderful dinner together and laughed a lot.\n",
      "  Inner Thoughts: I felt really close and happy with my partner.\n",
      "\n",
      "Event 7:\n",
      "  Memory: You forgot our anniversary and I felt really hurt.\n",
      "  Inner Thoughts: I felt really close and happy.\n",
      "  Type: memory\n",
      "\n",
      "Event 8:\n",
      "  Memory: We resolved a misunderstanding calmly and hugged afterwards.\n",
      "  Inner Thoughts: It felt good to talk things through and reconnect.\n",
      "\n",
      "Event 9:\n",
      "  Memory: You raised your voice at me during our argument.\n",
      "  Agent: Blake\n",
      "\n",
      "Event 10:\n",
      "  Memory: We planned a weekend trip together and looked forward to it.\n",
      "  Inner Thoughts: I felt excited and hopeful about our future.\n"
     ]
    }
   ],
   "source": [
    "print(mem.format_working_memory_for_llm())"
   ]
  },
  {
   "cell_type": "code",
   "execution_count": null,
   "id": "f05baa53",
   "metadata": {},
   "outputs": [],
   "source": []
  }
 ],
 "metadata": {
  "kernelspec": {
   "display_name": "base",
   "language": "python",
   "name": "python3"
  },
  "language_info": {
   "codemirror_mode": {
    "name": "ipython",
    "version": 3
   },
   "file_extension": ".py",
   "mimetype": "text/x-python",
   "name": "python",
   "nbconvert_exporter": "python",
   "pygments_lexer": "ipython3",
   "version": "3.13.5"
  }
 },
 "nbformat": 4,
 "nbformat_minor": 5
}
